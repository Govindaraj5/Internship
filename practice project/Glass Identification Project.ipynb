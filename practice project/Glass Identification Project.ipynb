{
 "cells": [
  {
   "cell_type": "code",
   "execution_count": null,
   "id": "3998fabb",
   "metadata": {},
   "outputs": [],
   "source": [
    "# import required packages\n",
    "import pandas as pd\n",
    "import numpy as np\n",
    "import matplotlib.pyplot as plt\n",
    "import seaborn as sns\n",
    "import warnings\n",
    "warnings.filterwarnings('ignore')"
   ]
  },
  {
   "cell_type": "markdown",
   "id": "826605bb",
   "metadata": {},
   "source": [
    "Project Description\n",
    "The dataset describes the chemical properties of glass and involves classifying samples of glass using their chemical properties as one of six classes. The dataset was credited to Vina Spiehler in 1987. The study of classification of types of glass was motivated by criminological investigation. At the scene of the crime, the glass left can be used as evidence...if it is correctly identified!\n",
    "\n",
    "The chemical compositions are measured as the weight percent in corresponding oxide.\n",
    "Attribute Information-\n",
    "1.\t Id number: 1 to 214\n",
    "2.\t RI: refractive index\n",
    "3.\tNa: Sodium (unit measurement: weight percent in corresponding oxide, as are attributes 4-10)\n",
    "4.\tMg: Magnesium\n",
    "5.\tAl: Aluminum\n",
    "6.\tSi: Silicon\n",
    "7.\tK: Potassium\n",
    "8.\tCa: Calcium\n",
    "9.\tBa: Barium\n",
    "10.\tFe: Iron\n",
    "11.\tType of glass: (class attribute)\n",
    "•\t1- building_windows_float_processed\n",
    "•\t2- building_windows_non_float_processed\n",
    "•\t3- vehicle_windows_float_processed\n",
    "•\t4- vehicle_windows_non_float_processed (none in this database)\n",
    "•\t5- containers\n",
    "•\t6- tableware\n",
    "•\t7- headlamps\n",
    "There are 214 observations in the dataset. The dataset can be divided into window glass (classes 1-4) and non-window glass (classes 5-7). \n",
    "Predict : Type of glass\n"
   ]
  },
  {
   "cell_type": "code",
   "execution_count": null,
   "id": "5bb03778",
   "metadata": {},
   "outputs": [],
   "source": [
    "# read the data from github\n",
    "glass_df=pd.read_csv('https://raw.githubusercontent.com/dsrscientist/dataset3/main/glass.csv',names=['id','refractive_index','Sodium','Magnesium','Aluminum','Silicon','Potassium',\n",
    "                                 'Calcium','Barium','Iron','Type_of_glass'])"
   ]
  },
  {
   "cell_type": "code",
   "execution_count": null,
   "id": "103f8715",
   "metadata": {},
   "outputs": [],
   "source": [
    "# check first 10 rows data\n",
    "glass_df.head(10)"
   ]
  },
  {
   "cell_type": "code",
   "execution_count": null,
   "id": "624ecb92",
   "metadata": {},
   "outputs": [],
   "source": [
    "# check first 10 rows data\n",
    "glass_df.tail(10)"
   ]
  },
  {
   "cell_type": "markdown",
   "id": "fb92295c",
   "metadata": {},
   "source": [
    "# 1. Data overview"
   ]
  },
  {
   "cell_type": "code",
   "execution_count": null,
   "id": "fe1c2f1b",
   "metadata": {},
   "outputs": [],
   "source": [
    "# checking data dimension\n",
    "glass_df.shape"
   ]
  },
  {
   "cell_type": "markdown",
   "id": "9839cb75",
   "metadata": {},
   "source": [
    "Data has 214 Rows and 11 coloumns including Target variable"
   ]
  },
  {
   "cell_type": "code",
   "execution_count": null,
   "id": "ff0a8c71",
   "metadata": {},
   "outputs": [],
   "source": [
    "# check missing values\n",
    "glass_df.isnull().sum()"
   ]
  },
  {
   "cell_type": "markdown",
   "id": "b0906909",
   "metadata": {},
   "source": [
    "There is no missing values in the data"
   ]
  },
  {
   "cell_type": "code",
   "execution_count": null,
   "id": "d5ba017d",
   "metadata": {},
   "outputs": [],
   "source": [
    "# check datatypes of variable\n",
    "glass_df.dtypes"
   ]
  },
  {
   "cell_type": "markdown",
   "id": "b3d531b4",
   "metadata": {},
   "source": [
    "out of 11 variable ID and glass type is Integer and remainings are float type. there is categorical data."
   ]
  },
  {
   "cell_type": "code",
   "execution_count": null,
   "id": "cf74ab48",
   "metadata": {},
   "outputs": [],
   "source": [
    "# remove ID col \n",
    "glass_df.drop('id',axis=1,inplace=True)"
   ]
  },
  {
   "cell_type": "markdown",
   "id": "d137c3f2",
   "metadata": {},
   "source": [
    "since ID variable is not making any value or importance here hence we can drop this variable "
   ]
  },
  {
   "cell_type": "code",
   "execution_count": null,
   "id": "0ad4c3fb",
   "metadata": {},
   "outputs": [],
   "source": [
    "glass_df.head()"
   ]
  },
  {
   "cell_type": "code",
   "execution_count": null,
   "id": "ac7645f1",
   "metadata": {},
   "outputs": [],
   "source": [
    "df['Type_of_glass'].value_counts()"
   ]
  },
  {
   "cell_type": "markdown",
   "id": "f7253d7f",
   "metadata": {},
   "source": [
    "Type of glass has 6 unique values and  can be divided into window glass (classes 1-4) and non-window glass (classes 5-7). \n",
    "Predict : Type of glass"
   ]
  },
  {
   "cell_type": "code",
   "execution_count": null,
   "id": "d9dc1be9",
   "metadata": {},
   "outputs": [],
   "source": [
    "#lets create  binary class based on the criteria on target variable\n",
    "def binary_class(x):\n",
    "    if x >=1 and x <=4:\n",
    "        return 1\n",
    "    else:\n",
    "        return 0\n",
    "\n",
    "glass_df['Type_of_glass'] = glass_df['Type_of_glass'].apply(binary_class)"
   ]
  },
  {
   "cell_type": "code",
   "execution_count": null,
   "id": "58564feb",
   "metadata": {},
   "outputs": [],
   "source": [
    "glass_df['Type_of_glass'].value_counts()"
   ]
  },
  {
   "cell_type": "code",
   "execution_count": null,
   "id": "e1cc850b",
   "metadata": {},
   "outputs": [],
   "source": [
    "glass_df.head()"
   ]
  },
  {
   "cell_type": "markdown",
   "id": "87eeae38",
   "metadata": {},
   "source": [
    "Now Target variable is labeled  1=window glass and 0=non-window glass"
   ]
  },
  {
   "cell_type": "code",
   "execution_count": null,
   "id": "6ab39f82",
   "metadata": {},
   "outputs": [],
   "source": [
    "glass_df.dtypes"
   ]
  },
  {
   "cell_type": "markdown",
   "id": "ee888bcb",
   "metadata": {},
   "source": [
    "# 2. Exploratory Data Analysis (EDA) "
   ]
  },
  {
   "cell_type": "markdown",
   "id": "93ed42a4",
   "metadata": {},
   "source": [
    "# 2.1 Univariant analysis"
   ]
  },
  {
   "cell_type": "code",
   "execution_count": null,
   "id": "b7f371cd",
   "metadata": {},
   "outputs": [],
   "source": [
    "plt.figure(figsize=(10,4),facecolor='grey',edgecolor='red')\n",
    "sns.distplot(glass_df['refractive_index'])\n",
    "plt.show()"
   ]
  },
  {
   "cell_type": "markdown",
   "id": "b5f7c391",
   "metadata": {},
   "source": [
    "data is not normally distributed. data has the right skewness.\n"
   ]
  },
  {
   "cell_type": "code",
   "execution_count": null,
   "id": "1667704c",
   "metadata": {},
   "outputs": [],
   "source": [
    "plt.figure(figsize=(10,4),facecolor='grey',edgecolor='red')\n",
    "sns.distplot(glass_df['Sodium'])\n",
    "plt.show()"
   ]
  },
  {
   "cell_type": "markdown",
   "id": "e23e5787",
   "metadata": {},
   "source": [
    "data is not nomally distributed and has both right and left skewness "
   ]
  },
  {
   "cell_type": "code",
   "execution_count": null,
   "id": "d6ce8572",
   "metadata": {},
   "outputs": [],
   "source": [
    "plt.figure(figsize=(10,4),facecolor='grey',edgecolor='red')\n",
    "sns.distplot(glass_df['Magnesium'])\n",
    "plt.show()"
   ]
  },
  {
   "cell_type": "markdown",
   "id": "f199526f",
   "metadata": {},
   "source": [
    "data  is asymetric and data is not normally distributed"
   ]
  },
  {
   "cell_type": "code",
   "execution_count": null,
   "id": "b3a9e2bf",
   "metadata": {},
   "outputs": [],
   "source": [
    "plt.figure(figsize=(10,4),facecolor='grey',edgecolor='red')\n",
    "sns.distplot(glass_df['Aluminum'])\n",
    "plt.show()"
   ]
  },
  {
   "cell_type": "markdown",
   "id": "f5ef5c51",
   "metadata": {},
   "source": [
    "data is normally distributed "
   ]
  },
  {
   "cell_type": "code",
   "execution_count": null,
   "id": "382d3f8c",
   "metadata": {},
   "outputs": [],
   "source": [
    "plt.figure(figsize=(10,4),facecolor='grey',edgecolor='red')\n",
    "sns.distplot(glass_df['Silicon'])\n",
    "plt.show()"
   ]
  },
  {
   "cell_type": "markdown",
   "id": "7563b692",
   "metadata": {},
   "source": [
    "data has left and rigt skewness and silicon value is high between 72 and 74."
   ]
  },
  {
   "cell_type": "code",
   "execution_count": null,
   "id": "c9b0a8b6",
   "metadata": {},
   "outputs": [],
   "source": [
    "plt.figure(figsize=(10,4),facecolor='grey',edgecolor='red')\n",
    "sns.distplot(glass_df['Potassium'])\n",
    "plt.show()"
   ]
  },
  {
   "cell_type": "markdown",
   "id": "5ca95466",
   "metadata": {},
   "source": [
    "data is not symetrical and has high skewness on right side"
   ]
  },
  {
   "cell_type": "code",
   "execution_count": null,
   "id": "96919a30",
   "metadata": {},
   "outputs": [],
   "source": [
    "plt.figure(figsize=(10,4),facecolor='grey',edgecolor='red')\n",
    "sns.distplot(glass_df['Calcium'])\n",
    "plt.show()"
   ]
  },
  {
   "cell_type": "markdown",
   "id": "4532052f",
   "metadata": {},
   "source": [
    "data is not normaly distributed and has high skewness on both right and left side"
   ]
  },
  {
   "cell_type": "code",
   "execution_count": null,
   "id": "89a53ba9",
   "metadata": {},
   "outputs": [],
   "source": [
    "plt.figure(figsize=(10,4),facecolor='grey',edgecolor='red')\n",
    "sns.distplot(glass_df['Barium'])\n",
    "plt.show()"
   ]
  },
  {
   "cell_type": "markdown",
   "id": "bd53c710",
   "metadata": {},
   "source": [
    "data has right skewness"
   ]
  },
  {
   "cell_type": "code",
   "execution_count": null,
   "id": "1afecc2e",
   "metadata": {},
   "outputs": [],
   "source": [
    "plt.figure(figsize=(10,4),facecolor='grey',edgecolor='red')\n",
    "sns.distplot(glass_df['Iron'])\n",
    "plt.show()"
   ]
  },
  {
   "cell_type": "markdown",
   "id": "b2e1f04a",
   "metadata": {},
   "source": [
    "Iron is high at 0.0 value its right skewness"
   ]
  },
  {
   "cell_type": "markdown",
   "id": "d18fbb70",
   "metadata": {},
   "source": [
    "# 2.2 bivariate/Multi analysis"
   ]
  },
  {
   "cell_type": "code",
   "execution_count": null,
   "id": "915ab273",
   "metadata": {},
   "outputs": [],
   "source": [
    "# dependant variable vs Target variable\n",
    "plt.figure(figsize=(10,4),edgecolor='red')\n",
    "sns.scatterplot(x='refractive_index',y='Type_of_glass',data=glass_df)\n",
    "plt.show()"
   ]
  },
  {
   "cell_type": "markdown",
   "id": "f9d3425b",
   "metadata": {},
   "source": [
    "refractive_index has less non-window glass and window glass is high relation.\n"
   ]
  },
  {
   "cell_type": "code",
   "execution_count": null,
   "id": "56c6a675",
   "metadata": {},
   "outputs": [],
   "source": [
    "id                    int64\n",
    "refractive_index    float64\n",
    "Sodium              float64\n",
    "Magnesium           float64\n",
    "Aluminum            float64\n",
    "Silicon             float64\n",
    "Potassium           float64\n",
    "Calcium             float64\n",
    "Barium              float64\n",
    "Iron                float64\n",
    "Type_of_glass    "
   ]
  },
  {
   "cell_type": "code",
   "execution_count": null,
   "id": "7a24eae5",
   "metadata": {},
   "outputs": [],
   "source": [
    "plt.figure(figsize=(10,4),edgecolor='red')\n",
    "sns.scatterplot(x='Sodium',y='Type_of_glass',data=glass_df)\n",
    "plt.show()"
   ]
  },
  {
   "cell_type": "markdown",
   "id": "8337e04d",
   "metadata": {},
   "source": [
    "sodium level 12.5 to 14.5 is high importance of glass quality especially for window glass the sodium level required between 12.5 and 14.5 "
   ]
  },
  {
   "cell_type": "code",
   "execution_count": null,
   "id": "bdcf1ec7",
   "metadata": {},
   "outputs": [],
   "source": [
    "plt.figure(figsize=(10,4),edgecolor='red')\n",
    "sns.scatterplot(x='Magnesium',y='Type_of_glass',data=glass_df)\n",
    "plt.show()"
   ]
  },
  {
   "cell_type": "markdown",
   "id": "1879518b",
   "metadata": {},
   "source": [
    "for window glass  Magnesium between 2.8 and 4 is high."
   ]
  },
  {
   "cell_type": "code",
   "execution_count": null,
   "id": "4e8a1537",
   "metadata": {},
   "outputs": [],
   "source": [
    "plt.figure(figsize=(10,4),edgecolor='red')\n",
    "sns.scatterplot(x='Aluminum',y='Type_of_glass',data=glass_df)\n",
    "plt.show()"
   ]
  },
  {
   "cell_type": "markdown",
   "id": "30edd504",
   "metadata": {},
   "source": [
    "for window glass Aluminum level required between 0.5 to 1.7 and for non window glass 1.5 to 2.5 is highly required aluminum. "
   ]
  },
  {
   "cell_type": "code",
   "execution_count": null,
   "id": "20c23695",
   "metadata": {},
   "outputs": [],
   "source": [
    "plt.figure(figsize=(10,4),edgecolor='red')\n",
    "sns.scatterplot(x='Silicon',y='Type_of_glass',data=glass_df)\n",
    "plt.show()"
   ]
  },
  {
   "cell_type": "markdown",
   "id": "207233b2",
   "metadata": {},
   "source": [
    "for window glass, Silicon level required between 71.5 to 73.5 and for non window glass 72.2 to 73.8 is highly required aluminum."
   ]
  },
  {
   "cell_type": "code",
   "execution_count": null,
   "id": "16a40a2e",
   "metadata": {},
   "outputs": [],
   "source": [
    "plt.figure(figsize=(10,4),edgecolor='red')\n",
    "sns.scatterplot(x='Potassium',y='Type_of_glass',data=glass_df)\n",
    "plt.show()"
   ]
  },
  {
   "cell_type": "markdown",
   "id": "75be0ec3",
   "metadata": {},
   "source": [
    "for window glass, Potassium level required between 0 to 1. non window glass requires less potassium"
   ]
  },
  {
   "cell_type": "code",
   "execution_count": null,
   "id": "fd8c19ba",
   "metadata": {},
   "outputs": [],
   "source": [
    "plt.figure(figsize=(10,4),edgecolor='red')\n",
    "sns.scatterplot(x='Calcium',y='Type_of_glass',data=glass_df)\n",
    "plt.show()"
   ]
  },
  {
   "cell_type": "markdown",
   "id": "01db6988",
   "metadata": {},
   "source": [
    "for window glass, Calcium level required between 7.8 and 12. non window glass requires 8 to 10 level."
   ]
  },
  {
   "cell_type": "code",
   "execution_count": null,
   "id": "e39f2613",
   "metadata": {},
   "outputs": [],
   "source": [
    "plt.figure(figsize=(10,4),edgecolor='red')\n",
    "sns.scatterplot(x='Barium',y='Type_of_glass',data=glass_df)\n",
    "plt.show()"
   ]
  },
  {
   "cell_type": "markdown",
   "id": "42579c55",
   "metadata": {},
   "source": [
    "Barium involvement is less in window glass than non window glass."
   ]
  },
  {
   "cell_type": "code",
   "execution_count": null,
   "id": "d447275a",
   "metadata": {},
   "outputs": [],
   "source": [
    "plt.figure(figsize=(10,4),edgecolor='red')\n",
    "sns.scatterplot(x='Iron',y='Type_of_glass',data=glass_df)\n",
    "plt.show()"
   ]
  },
  {
   "cell_type": "markdown",
   "id": "4b09b4b8",
   "metadata": {},
   "source": [
    "in window glass there is a high importance of iron"
   ]
  },
  {
   "cell_type": "code",
   "execution_count": null,
   "id": "10b0906d",
   "metadata": {},
   "outputs": [],
   "source": [
    "#lets plot the Target variable\n",
    "plt.figure(figsize=(10,4))\n",
    "sns.histplot(glass_df['Type_of_glass'])"
   ]
  },
  {
   "cell_type": "markdown",
   "id": "3e090134",
   "metadata": {},
   "source": [
    "we have more number of window glass compared to Non window glass"
   ]
  },
  {
   "cell_type": "code",
   "execution_count": null,
   "id": "fa97e917",
   "metadata": {},
   "outputs": [],
   "source": [
    "# lets plot the pairplot to understand the relationship between independant varibale\n",
    "sns.pairplot(glass_df)"
   ]
  },
  {
   "cell_type": "markdown",
   "id": "51e3006c",
   "metadata": {},
   "source": [
    "Key observation:\n",
    "from above plot we can see that there is a high positive relation between Calcium and refractive_index. Also other Variables have the positive/negative relationship between the dependant variable. we will the mutlicolinearity as we go further."
   ]
  },
  {
   "cell_type": "markdown",
   "id": "f77c6777",
   "metadata": {},
   "source": [
    "# 3. Skewness"
   ]
  },
  {
   "cell_type": "code",
   "execution_count": null,
   "id": "928ff7b1",
   "metadata": {},
   "outputs": [],
   "source": [
    "glass_df.skew()"
   ]
  },
  {
   "cell_type": "code",
   "execution_count": null,
   "id": "83017071",
   "metadata": {},
   "outputs": [],
   "source": [
    " # removing outliers, we will use z score to remove the outlier \n",
    "import scipy   \n",
    "from scipy.stats import zscore\n",
    "import scipy.stats as stats"
   ]
  },
  {
   "cell_type": "code",
   "execution_count": null,
   "id": "5872e96c",
   "metadata": {},
   "outputs": [],
   "source": [
    "#lets find the zscore for dataframe\n",
    "z=np.abs(stats.zscore(glass_df))\n",
    "z"
   ]
  },
  {
   "cell_type": "code",
   "execution_count": null,
   "id": "c4673ce3",
   "metadata": {},
   "outputs": [],
   "source": [
    "df1=glass_df[(z<3).all(axis=1)]\n",
    "df1"
   ]
  },
  {
   "cell_type": "markdown",
   "id": "fc9cb75f",
   "metadata": {},
   "source": [
    "now 194 rows from 214 rows which means there are 20 rows which had skewness and removed."
   ]
  },
  {
   "cell_type": "code",
   "execution_count": null,
   "id": "91bc79c2",
   "metadata": {},
   "outputs": [],
   "source": [
    "# check the data again \n",
    "df1.info()"
   ]
  },
  {
   "cell_type": "code",
   "execution_count": null,
   "id": "514572be",
   "metadata": {},
   "outputs": [],
   "source": [
    "# correlation \n",
    "corr=df1.corr()\n",
    "corr"
   ]
  },
  {
   "cell_type": "code",
   "execution_count": null,
   "id": "82ac6bcf",
   "metadata": {},
   "outputs": [],
   "source": [
    "plt.figure(figsize=(10,5))\n",
    "sns.heatmap(df1.corr(),annot=True)"
   ]
  },
  {
   "cell_type": "markdown",
   "id": "0cceb6b2",
   "metadata": {},
   "source": [
    "Correlation observation:\n",
    "    1. Sodium,Aluminum,Barium has the high negative correlation vs glass type.\n",
    "    2.Magnesium,Iron has high positive corelation with glass type"
   ]
  },
  {
   "cell_type": "code",
   "execution_count": null,
   "id": "f3e4f109",
   "metadata": {},
   "outputs": [],
   "source": [
    "# check correlation with Target variable\n",
    "corr['Type_of_glass'].sort_values(ascending=False)"
   ]
  },
  {
   "cell_type": "code",
   "execution_count": null,
   "id": "966dde66",
   "metadata": {},
   "outputs": [],
   "source": [
    "#split data into x and y \n",
    "x=df1.drop('Type_of_glass',axis=1)\n",
    "y=df1['Type_of_glass']"
   ]
  },
  {
   "cell_type": "code",
   "execution_count": null,
   "id": "0f8c52f3",
   "metadata": {},
   "outputs": [],
   "source": [
    "#feature scalling \n",
    "from sklearn.preprocessing import StandardScaler\n",
    "sd=StandardScaler()\n",
    "x1=pd.DataFrame(sd.fit_transform(x),columns=x.columns)\n",
    "x1"
   ]
  },
  {
   "cell_type": "code",
   "execution_count": null,
   "id": "64f56c5e",
   "metadata": {},
   "outputs": [],
   "source": [
    "# VIF check \n",
    "from statsmodels.stats.outliers_influence import variance_inflation_factor\n",
    "VIF=pd.DataFrame()\n",
    "VIF['VIF_Values']=[variance_inflation_factor(x1.values,i) for i in range(len(x1.columns))]\n",
    "VIF['Features']=x1.columns\n",
    "VIF"
   ]
  },
  {
   "cell_type": "markdown",
   "id": "567bf6ae",
   "metadata": {},
   "source": [
    "we can Magnesium has the high multicoliniriaty hence we will remove the variable"
   ]
  },
  {
   "cell_type": "code",
   "execution_count": null,
   "id": "27eaa25b",
   "metadata": {},
   "outputs": [],
   "source": [
    "x2=x1.drop('Magnesium',axis=1)"
   ]
  },
  {
   "cell_type": "code",
   "execution_count": null,
   "id": "b88bde8b",
   "metadata": {},
   "outputs": [],
   "source": [
    "# check VIF again after removing the high multicoliniriaty col\n",
    "from statsmodels.stats.outliers_influence import variance_inflation_factor\n",
    "VIF=pd.DataFrame()\n",
    "VIF['VIF_Values']=[variance_inflation_factor(x2.values,i) for i in range(len(x2.columns))]\n",
    "VIF['Features']=x2.columns\n",
    "VIF"
   ]
  },
  {
   "cell_type": "markdown",
   "id": "4f426f63",
   "metadata": {},
   "source": [
    "Now the data looks fine and we can go head with the model bulding "
   ]
  },
  {
   "cell_type": "code",
   "execution_count": null,
   "id": "b7e5415e",
   "metadata": {},
   "outputs": [],
   "source": [
    "# check the target variable data\n",
    "y.value_counts()"
   ]
  },
  {
   "cell_type": "markdown",
   "id": "731f05c4",
   "metadata": {},
   "source": [
    "as we can see the data is imbalanced so before proceeding we ill have to handle the data balance issue."
   ]
  },
  {
   "cell_type": "markdown",
   "id": "861db2e0",
   "metadata": {},
   "source": [
    "# Oversampling "
   ]
  },
  {
   "cell_type": "code",
   "execution_count": null,
   "id": "6e686ee5",
   "metadata": {},
   "outputs": [],
   "source": [
    "#load SMOTE Package for sampling \n",
    "from imblearn.over_sampling import SMOTE\n",
    "sm=SMOTE()\n"
   ]
  },
  {
   "cell_type": "code",
   "execution_count": null,
   "id": "9dc0ee30",
   "metadata": {},
   "outputs": [],
   "source": [
    "#appling oversampling using the SMOTE method\n",
    "from imblearn.over_sampling import SMOTE\n",
    "sm=SMOTE()\n",
    "x,y=sm.fit_resample(x2,y)"
   ]
  },
  {
   "cell_type": "code",
   "execution_count": 134,
   "id": "b12bb506",
   "metadata": {},
   "outputs": [
    {
     "name": "stdout",
     "output_type": "stream",
     "text": [
      "the best acc is: 1.0 best random state is: 19\n"
     ]
    }
   ],
   "source": [
    "# let split the training and test data also find the best random state using the randomforest classifier\n",
    "from sklearn.model_selection import train_test_split\n",
    "from sklearn.ensemble import RandomForestClassifier\n",
    "from sklearn.metrics import accuracy_score\n",
    "\n",
    "best_acc=0\n",
    "best_rstat=0\n",
    "\n",
    "for seed in range(1,200):\n",
    "    x_train,x_test,y_train,y_test=train_test_split(x,y,test_size=0.3,random_state=seed)\n",
    "    rfc=RandomForestClassifier()\n",
    "    model=rfc.fit(x_train,y_train)\n",
    "    pred=model.predict(x_test)\n",
    "    acc=accuracy_score(y_test,pred)\n",
    "    if acc>best_acc:\n",
    "        best_acc=acc\n",
    "        best_rstat=seed\n",
    "print('the best acc is:',best_acc,'best random state is:',best_rstat)\n",
    "    "
   ]
  },
  {
   "cell_type": "code",
   "execution_count": 135,
   "id": "471630ef",
   "metadata": {},
   "outputs": [],
   "source": [
    "# now splite the data using random state as 28\n",
    "x_train,x_test,y_train,y_test=train_test_split(x,y,test_size=0.3,random_state=19)"
   ]
  },
  {
   "cell_type": "code",
   "execution_count": 137,
   "id": "ae4944bb",
   "metadata": {},
   "outputs": [],
   "source": [
    "# let import all the classification algorithms & model validation metrics\n",
    "from sklearn.ensemble import RandomForestClassifier,ExtraTreesClassifier\n",
    "from sklearn.linear_model import LogisticRegression\n",
    "from sklearn.svm import SVC\n",
    "from sklearn.ensemble import GradientBoostingClassifier,AdaBoostClassifier,BaggingClassifier\n",
    "from sklearn.tree import DecisionTreeClassifier\n",
    "from sklearn.naive_bayes import GaussianNB\n",
    "from sklearn.metrics import classification_report,confusion_matrix,roc_curve,auc,accuracy_score\n",
    "from sklearn.model_selection import cross_val_score"
   ]
  },
  {
   "cell_type": "code",
   "execution_count": 138,
   "id": "420d1698",
   "metadata": {},
   "outputs": [
    {
     "name": "stdout",
     "output_type": "stream",
     "text": [
      "model_accuracy: 1.0\n",
      "\n",
      "\n",
      "[[45  0]\n",
      " [ 0 48]]\n",
      "\n",
      "\n",
      "              precision    recall  f1-score   support\n",
      "\n",
      "           0       1.00      1.00      1.00        45\n",
      "           1       1.00      1.00      1.00        48\n",
      "\n",
      "    accuracy                           1.00        93\n",
      "   macro avg       1.00      1.00      1.00        93\n",
      "weighted avg       1.00      1.00      1.00        93\n",
      "\n"
     ]
    }
   ],
   "source": []
  },
  {
   "cell_type": "code",
   "execution_count": 139,
   "id": "ba5a2433",
   "metadata": {},
   "outputs": [
    {
     "name": "stdout",
     "output_type": "stream",
     "text": [
      "model_accuracy: 0.989247311827957\n",
      "\n",
      "\n",
      "[[45  0]\n",
      " [ 1 47]]\n",
      "\n",
      "\n",
      "              precision    recall  f1-score   support\n",
      "\n",
      "           0       0.98      1.00      0.99        45\n",
      "           1       1.00      0.98      0.99        48\n",
      "\n",
      "    accuracy                           0.99        93\n",
      "   macro avg       0.99      0.99      0.99        93\n",
      "weighted avg       0.99      0.99      0.99        93\n",
      "\n"
     ]
    }
   ],
   "source": [
    "# lets build the next model logistice regression\n",
    "lr=LogisticRegression()\n",
    "lr_model=lr.fit(x_train,y_train)\n",
    "lr_pred=lr_model.predict(x_test)\n",
    "print('model_accuracy:',accuracy_score(y_test,lr_pred))\n",
    "print('\\n')\n",
    "print(confusion_matrix(y_test,lr_pred))\n",
    "print('\\n')\n",
    "print(classification_report(y_test,lr_pred))"
   ]
  },
  {
   "cell_type": "code",
   "execution_count": 140,
   "id": "1dcfad8c",
   "metadata": {},
   "outputs": [
    {
     "name": "stdout",
     "output_type": "stream",
     "text": [
      "model_accuracy: 1.0\n",
      "\n",
      "\n",
      "[[45  0]\n",
      " [ 0 48]]\n",
      "\n",
      "\n",
      "              precision    recall  f1-score   support\n",
      "\n",
      "           0       1.00      1.00      1.00        45\n",
      "           1       1.00      1.00      1.00        48\n",
      "\n",
      "    accuracy                           1.00        93\n",
      "   macro avg       1.00      1.00      1.00        93\n",
      "weighted avg       1.00      1.00      1.00        93\n",
      "\n"
     ]
    }
   ],
   "source": [
    "# lets build support vector model\n",
    "svc=SVC()\n",
    "svc_model=svc.fit(x_train,y_train)\n",
    "svc_pred=svc_model.predict(x_test)\n",
    "print('model_accuracy:',accuracy_score(y_test,svc_pred))\n",
    "print('\\n')\n",
    "print(confusion_matrix(y_test,svc_pred))\n",
    "print('\\n')\n",
    "print(classification_report(y_test,svc_pred))"
   ]
  },
  {
   "cell_type": "code",
   "execution_count": 141,
   "id": "edde1a91",
   "metadata": {},
   "outputs": [
    {
     "name": "stdout",
     "output_type": "stream",
     "text": [
      "model_accuracy: 1.0\n",
      "\n",
      "\n",
      "[[45  0]\n",
      " [ 0 48]]\n",
      "\n",
      "\n",
      "              precision    recall  f1-score   support\n",
      "\n",
      "           0       1.00      1.00      1.00        45\n",
      "           1       1.00      1.00      1.00        48\n",
      "\n",
      "    accuracy                           1.00        93\n",
      "   macro avg       1.00      1.00      1.00        93\n",
      "weighted avg       1.00      1.00      1.00        93\n",
      "\n"
     ]
    }
   ],
   "source": [
    "# lets build extra tree classifier model\n",
    "etc=ExtraTreesClassifier()\n",
    "etc_model=etc.fit(x_train,y_train)\n",
    "etc_pred=etc_model.predict(x_test)\n",
    "print('model_accuracy:',accuracy_score(y_test,etc_pred))\n",
    "print('\\n')\n",
    "print(confusion_matrix(y_test,etc_pred))\n",
    "print('\\n')\n",
    "print(classification_report(y_test,etc_pred))"
   ]
  },
  {
   "cell_type": "code",
   "execution_count": 142,
   "id": "276a0751",
   "metadata": {},
   "outputs": [
    {
     "name": "stdout",
     "output_type": "stream",
     "text": [
      "model_accuracy: 1.0\n",
      "\n",
      "\n",
      "[[45  0]\n",
      " [ 0 48]]\n",
      "\n",
      "\n",
      "              precision    recall  f1-score   support\n",
      "\n",
      "           0       1.00      1.00      1.00        45\n",
      "           1       1.00      1.00      1.00        48\n",
      "\n",
      "    accuracy                           1.00        93\n",
      "   macro avg       1.00      1.00      1.00        93\n",
      "weighted avg       1.00      1.00      1.00        93\n",
      "\n"
     ]
    }
   ],
   "source": [
    "# lets adaboost classfier model\n",
    "adc=AdaBoostClassifier()\n",
    "adc_model=adc.fit(x_train,y_train)\n",
    "adc_pred=adc_model.predict(x_test)\n",
    "print('model_accuracy:',accuracy_score(y_test,adc_pred))\n",
    "print('\\n')\n",
    "print(confusion_matrix(y_test,adc_pred))\n",
    "print('\\n')\n",
    "print(classification_report(y_test,adc_pred))"
   ]
  },
  {
   "cell_type": "code",
   "execution_count": 143,
   "id": "c42e1911",
   "metadata": {},
   "outputs": [
    {
     "name": "stdout",
     "output_type": "stream",
     "text": [
      "model_accuracy: 1.0\n",
      "\n",
      "\n",
      "[[45  0]\n",
      " [ 0 48]]\n",
      "\n",
      "\n",
      "              precision    recall  f1-score   support\n",
      "\n",
      "           0       1.00      1.00      1.00        45\n",
      "           1       1.00      1.00      1.00        48\n",
      "\n",
      "    accuracy                           1.00        93\n",
      "   macro avg       1.00      1.00      1.00        93\n",
      "weighted avg       1.00      1.00      1.00        93\n",
      "\n"
     ]
    }
   ],
   "source": [
    "# lets build GradientBoostingClassifier model\n",
    "gbc=GradientBoostingClassifier()\n",
    "gbc_model=gbc.fit(x_train,y_train)\n",
    "gbc_pred=gbc_model.predict(x_test)\n",
    "print('model_accuracy:',accuracy_score(y_test,gbc_pred))\n",
    "print('\\n')\n",
    "print(confusion_matrix(y_test,gbc_pred))\n",
    "print('\\n')\n",
    "print(classification_report(y_test,gbc_pred))"
   ]
  },
  {
   "cell_type": "code",
   "execution_count": 144,
   "id": "a036e8cf",
   "metadata": {},
   "outputs": [
    {
     "name": "stdout",
     "output_type": "stream",
     "text": [
      "model_accuracy: 0.989247311827957\n",
      "\n",
      "\n",
      "[[45  0]\n",
      " [ 1 47]]\n",
      "\n",
      "\n",
      "              precision    recall  f1-score   support\n",
      "\n",
      "           0       0.98      1.00      0.99        45\n",
      "           1       1.00      0.98      0.99        48\n",
      "\n",
      "    accuracy                           0.99        93\n",
      "   macro avg       0.99      0.99      0.99        93\n",
      "weighted avg       0.99      0.99      0.99        93\n",
      "\n"
     ]
    }
   ],
   "source": [
    "# lets BaggingClassifier model\n",
    "bc=BaggingClassifier()\n",
    "bc_model=bc.fit(x_train,y_train)\n",
    "bc_pred=bc_model.predict(x_test)\n",
    "print('model_accuracy:',accuracy_score(y_test,bc_pred))\n",
    "print('\\n')\n",
    "print(confusion_matrix(y_test,bc_pred))\n",
    "print('\\n')\n",
    "print(classification_report(y_test,bc_pred))"
   ]
  },
  {
   "cell_type": "code",
   "execution_count": 145,
   "id": "e373c71e",
   "metadata": {},
   "outputs": [
    {
     "name": "stdout",
     "output_type": "stream",
     "text": [
      "model_accuracy: 0.989247311827957\n",
      "\n",
      "\n",
      "[[45  0]\n",
      " [ 1 47]]\n",
      "\n",
      "\n",
      "              precision    recall  f1-score   support\n",
      "\n",
      "           0       0.98      1.00      0.99        45\n",
      "           1       1.00      0.98      0.99        48\n",
      "\n",
      "    accuracy                           0.99        93\n",
      "   macro avg       0.99      0.99      0.99        93\n",
      "weighted avg       0.99      0.99      0.99        93\n",
      "\n"
     ]
    }
   ],
   "source": [
    "# lets Decision tree model\n",
    "dcc=DecisionTreeClassifier()\n",
    "dcc_model=dcc.fit(x_train,y_train)\n",
    "dcc_pred=dcc_model.predict(x_test)\n",
    "print('model_accuracy:',accuracy_score(y_test,dcc_pred))\n",
    "print('\\n')\n",
    "print(confusion_matrix(y_test,dcc_pred))\n",
    "print('\\n')\n",
    "print(classification_report(y_test,dcc_pred))"
   ]
  },
  {
   "cell_type": "code",
   "execution_count": 147,
   "id": "293dc546",
   "metadata": {},
   "outputs": [
    {
     "name": "stdout",
     "output_type": "stream",
     "text": [
      "[0.98387097 1.         0.98387097 0.93442623 0.98360656]\n",
      "0.9771549444738235\n",
      "The differnce between model_pred and cross val score mean: 0.02284505552617655\n"
     ]
    }
   ],
   "source": [
    "# cross validation score on extra tree classification\n",
    "score=cross_val_score(etc,x,y,cv=5)\n",
    "print(score)\n",
    "print(score.mean())\n",
    "print('The differnce between model_pred and cross val score mean:',accuracy_score(y_test,rfc_pred)-score.mean())"
   ]
  },
  {
   "cell_type": "markdown",
   "id": "382f3e5f",
   "metadata": {},
   "source": [
    "since ramdomforest gives the best accuracy we will finalise the random forest model and we will hyper tune it."
   ]
  },
  {
   "cell_type": "code",
   "execution_count": 155,
   "id": "3b8f5cd1",
   "metadata": {},
   "outputs": [
    {
     "name": "stdout",
     "output_type": "stream",
     "text": [
      "{'bootstrap': False, 'criterion': 'entropy', 'max_depth': 3, 'max_features': 2, 'min_samples_leaf': 2, 'min_samples_split': 2}\n"
     ]
    }
   ],
   "source": [
    "#hyper tuning the adaboost model\n",
    "from sklearn.model_selection import RandomizedSearchCV\n",
    "from sklearn.ensemble import RandomForestClassifier\n",
    "from scipy.stats import randint as sp_randint\n",
    "grid=dict()\n",
    "clf=RandomForestClassifier(n_estimators=50)\n",
    "param_dist = {\"max_depth\": [3, None],\n",
    "              \"max_features\": sp_randint(1, 11),\n",
    "              \"min_samples_split\": sp_randint(2, 11),\n",
    "              \"min_samples_leaf\": sp_randint(1, 11),\n",
    "              \"bootstrap\": [True, False],\n",
    "              \"criterion\": [\"gini\", \"entropy\"]}\n",
    "\n",
    "randomCV = RandomizedSearchCV(clf, param_distributions=param_dist, n_iter=8,cv=3)\n",
    "\n",
    "randomCV.fit(x_train, y_train)\n",
    "print(randomCV.best_params_)\n"
   ]
  },
  {
   "cell_type": "code",
   "execution_count": 158,
   "id": "c57293e7",
   "metadata": {},
   "outputs": [
    {
     "name": "stdout",
     "output_type": "stream",
     "text": [
      "1.0\n"
     ]
    }
   ],
   "source": [
    "#now lets build the final model\n",
    "final_model=RandomForestClassifier(bootstrap= False, \n",
    "                                   criterion= 'entropy', max_depth= 3, max_features= 2, \n",
    "                                   min_samples_leaf= 2, min_samples_split= 2)\n",
    "final_model.fit(x_train,y_train)\n",
    "f_pred=final_model.predict(x_test)\n",
    "acc=accuracy_score(y_test,f_pred)\n",
    "print(acc)"
   ]
  },
  {
   "cell_type": "code",
   "execution_count": 159,
   "id": "1a1d30ea",
   "metadata": {},
   "outputs": [],
   "source": [
    "# see the auc and Roc curve\n",
    "from sklearn.metrics import roc_auc_score\n",
    "from sklearn.metrics import auc\n",
    "from sklearn.metrics import roc_curve"
   ]
  },
  {
   "cell_type": "code",
   "execution_count": 160,
   "id": "d1cf3ffa",
   "metadata": {},
   "outputs": [
    {
     "data": {
      "image/png": "[encoded data removed]",
      "text/plain": [
       "<Figure size 720x720 with 1 Axes>"
      ]
     },
     "metadata": {
      "needs_background": "light"
     },
     "output_type": "display_data"
    },
    {
     "name": "stdout",
     "output_type": "stream",
     "text": [
      "auc score is: 1.0\n"
     ]
    }
   ],
   "source": [
    "final_pred=final_model.predict_proba(x_test)[:,1]\n",
    "fpr,tpr, thresholds=roc_curve(y_test,final_pred)\n",
    "roc_auc=auc(fpr,tpr)\n",
    "plt.subplots(1, figsize=(10,10))\n",
    "plt.title('Receiver Operating Characteristic - Adaboost')\n",
    "plt.plot(fpr, tpr)\n",
    "plt.plot([0, 1], ls=\"--\")\n",
    "plt.plot([0, 0], [1, 0] , c=\".7\"), plt.plot([1, 1] , c=\".7\")\n",
    "plt.ylabel('True Positive Rate')\n",
    "plt.xlabel('False Positive Rate')\n",
    "plt.show()\n",
    "score=roc_auc_score(y_test,final_model.predict(x_test))\n",
    "print('auc score is:',score)\n",
    "\n"
   ]
  },
  {
   "cell_type": "code",
   "execution_count": 161,
   "id": "9610a638",
   "metadata": {},
   "outputs": [
    {
     "data": {
      "text/plain": [
       "['glass_identification.pkl']"
      ]
     },
     "execution_count": 161,
     "metadata": {},
     "output_type": "execute_result"
    }
   ],
   "source": [
    "# saving the model\n",
    "import joblib\n",
    "joblib.dump(final_model,\"glass_identification.pkl\")\n"
   ]
  },
  {
   "cell_type": "code",
   "execution_count": 162,
   "id": "4b8308fb",
   "metadata": {},
   "outputs": [],
   "source": [
    "# lets pass a new data check whether the model is loading or not\n",
    "model=joblib.load('glass_identification.pkl')"
   ]
  },
  {
   "cell_type": "code",
   "execution_count": 163,
   "id": "6b447f2d",
   "metadata": {},
   "outputs": [
    {
     "data": {
      "text/plain": [
       "array([0, 0, 1, 1, 1, 1, 1, 1, 1, 0, 0, 1, 1, 0, 1, 1, 1, 0, 1, 1, 1, 1,\n",
       "       1, 1, 0, 1, 1, 1, 0, 0, 0, 1, 1, 0, 0, 0, 0, 0, 1, 1, 0, 0, 0, 0,\n",
       "       1, 0, 1, 1, 1, 1, 0, 0, 0, 0, 0, 1, 1, 0, 0, 1, 0, 1, 0, 0, 0, 0,\n",
       "       0, 0, 1, 0, 1, 0, 1, 0, 1, 0, 0, 1, 1, 1, 0, 1, 1, 1, 0, 0, 1, 1,\n",
       "       1, 0, 0, 0, 1], dtype=int64)"
      ]
     },
     "execution_count": 163,
     "metadata": {},
     "output_type": "execute_result"
    }
   ],
   "source": [
    "pred=model.predict(x_test)\n",
    "pred"
   ]
  },
  {
   "cell_type": "code",
   "execution_count": null,
   "id": "698401f3",
   "metadata": {},
   "outputs": [],
   "source": [
    "s"
   ]
  }
 ],
 "metadata": {
  "kernelspec": {
   "display_name": "Python 3 (ipykernel)",
   "language": "python",
   "name": "python3"
  },
  "language_info": {
   "codemirror_mode": {
    "name": "ipython",
    "version": 3
   },
   "file_extension": ".py",
   "mimetype": "text/x-python",
   "name": "python",
   "nbconvert_exporter": "python",
   "pygments_lexer": "ipython3",
   "version": "3.9.7"
  }
 },
 "nbformat": 4,
 "nbformat_minor": 5
}
